{
 "cells": [
  {
   "cell_type": "code",
   "execution_count": 15,
   "id": "0e6917a3",
   "metadata": {},
   "outputs": [
    {
     "name": "stdout",
     "output_type": "stream",
     "text": [
      "Tutorialspoint - Simple Easy Learning.\n",
      "TUTORIALSPOINT - SIMPLE EASY LEARNING.\n"
     ]
    }
   ],
   "source": [
    "import string\n",
    "\n",
    "text = 'Tutorialspoint - simple easy learning.'\n",
    "\n",
    "print(string.capwords(text)) \n",
    "print(text.upper())"
   ]
  },
  {
   "cell_type": "code",
   "execution_count": 16,
   "id": "135dc37a",
   "metadata": {},
   "outputs": [
    {
     "name": "stdout",
     "output_type": "stream",
     "text": [
      "Tutorialspoint - Simple Easy Learning.\n",
      "TUTORIALSPOINT - SIMPLE EASY LEARNING.\n"
     ]
    }
   ],
   "source": [
    "import string\n",
    "\n",
    "text = 'Tutorialspoint - simple easy learning.'\n",
    " \n",
    "cap = string.capwords(text)\n",
    "print(cap)\n",
    "print(text.upper())\n",
    "#print(upper)"
   ]
  },
  {
   "cell_type": "code",
   "execution_count": 17,
   "id": "e9e651ab",
   "metadata": {},
   "outputs": [
    {
     "name": "stdout",
     "output_type": "stream",
     "text": [
      "Tuwyriazsxyinw - simxze easy zearning.\n"
     ]
    }
   ],
   "source": [
    "text = 'Tutorialspoint - simple easy learning.'\n",
    "\n",
    "transtable = text.maketrans('tpol', 'wxyz')\n",
    "print(text.translate(transtable))"
   ]
  },
  {
   "cell_type": "code",
   "execution_count": null,
   "id": "a90b9dac",
   "metadata": {},
   "outputs": [],
   "source": []
  }
 ],
 "metadata": {
  "kernelspec": {
   "display_name": "Python 3 (ipykernel)",
   "language": "python",
   "name": "python3"
  },
  "language_info": {
   "codemirror_mode": {
    "name": "ipython",
    "version": 3
   },
   "file_extension": ".py",
   "mimetype": "text/x-python",
   "name": "python",
   "nbconvert_exporter": "python",
   "pygments_lexer": "ipython3",
   "version": "3.8.8"
  }
 },
 "nbformat": 4,
 "nbformat_minor": 5
}
